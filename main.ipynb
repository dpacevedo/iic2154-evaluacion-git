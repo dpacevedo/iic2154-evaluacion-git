{
 "cells": [
  {
   "cell_type": "code",
   "execution_count": 1,
   "metadata": {},
   "outputs": [],
   "source": [
    "def tweets(df):\n",
    "    df_sort = df\n",
    "    df_sort.sort_values(by=['retweetCount'],ascending=False)\n",
    "    df_tweets = df_sort.head(10)\n",
    "    print(\"Los top 10 tweets más retweeted son:\")\n",
    "    #print(df_tweets)\n",
    "    for i in range(10):\n",
    "        print(str(i)+ \") \" + df_tweets[\"content\"][i] + \"\\n\")\n",
    "\n",
    "def users(df):\n",
    "    print(\"Los top 10 usuarios con más tweets son:\")\n",
    "    \n",
    "\n",
    "def days(df):\n",
    "    df_days = df\n",
    "    df_days['date'] = list(map(lambda x: x.split('T')[0],df_days['date']))\n",
    "    df_days['date'] = list(map(lambda x: datetime.strptime(x, '%Y-%m-%d'),df_days['date']))\n",
    "    #print(df_days['date'])\n",
    "    #new = df_days[['date']].copy()\n",
    "    df_days = df_days.groupby('date').count()\n",
    "    #new.groupby(new.Grouper(key='Date', axis=0, freq='D')).count()\n",
    "    df_sort = df_days.sort_values(by=['id'],ascending=False)\n",
    "    print(\"Los top 10 días con más tweets son:\")\n",
    "    df_v2 = df_sort.head(10)\n",
    "    print(df_v2[\"id\"])\n",
    "    #print(df_days)\n",
    "    \n",
    "def hashtags(df):\n",
    "    print(\"Los top 10 hashtags más usados son:\")"
   ]
  },
  {
   "cell_type": "code",
   "execution_count": 2,
   "metadata": {},
   "outputs": [
    {
     "name": "stdout",
     "output_type": "stream",
     "text": [
      "Los top 10 tweets más retweeted son:\n",
      "0) Support 👇\n",
      "\n",
      "#FarmersProtest\n",
      "\n",
      "1) Supporting farmers means supporting our country #StopHateAgainstFarmers #FarmersProtest https://t.co/iWPatTK6NV\n",
      "\n",
      "2) Support farmers if you are related to food #StopHateAgainstFarmers #FarmersProtest https://t.co/TcoZx4ZmyU\n",
      "\n",
      "3) #StopHateAgainstFarmers support #FarmersProtest by pressurising got. to accept farmer's genuine demand.\n",
      "\n",
      "4) You hate farmers I hate you, \n",
      "if you love them I love you! ;) \n",
      "\n",
      "#StopHateAgainstFarmers \n",
      "#FarmersProtest\n",
      "\n",
      "5) They can't be farmers. Looks like Gundas are having good time. They seem to be violence thirsty goons. #FarmersProtest https://t.co/6kFJpX2mx0\n",
      "\n",
      "6) Lets not forget that our Farmers are STILL out there protesting. \n",
      "Please pray for them.  \n",
      "#FarmersProtest https://t.co/BP95cPmftD\n",
      "\n",
      "7) @Troll48611422 @Doabapunjab1 @Terminator00096 @HarjasK1 @_theshivatribe_ @Arshdee00485709 @tamankaur_ @sukhisukhii @WalterW28442171 @amaanbali thats your best comeback ?😂 lol so the only word you could understand was “yo” oh my my\n",
      "nd who the eef r u to tell me which language i should be talk in? \n",
      "u lil piece of 💩 \n",
      "\n",
      "#FarmersProtest #StopHateAgainstFarmers https://t.co/3U0Cg5XYKq\n",
      "\n",
      "8) Neutrality helps the oppressor, never the victim. \n",
      "\n",
      "Silence encourages the tormentor, never the tormented\n",
      "\n",
      "Speak up for FARMERS\n",
      "\n",
      "#FarmersProtest\n",
      "\n",
      " 03:28:09\n",
      "\n",
      "9) Why You Should Visit the F.A.R.M.E.R. at Tikri Border at Least Once \n",
      "\n",
      "#StopHateAgainstFarmers \n",
      "#FarmersProtest \n",
      "\n",
      "https://t.co/gS8glayNfe via @thewire_in\n",
      "\n",
      "Los top 10 días con más tweets son:\n",
      "date\n",
      "2021-02-03    83866\n",
      "2021-02-04    58607\n",
      "2021-02-05    33332\n",
      "2021-02-02    28548\n",
      "2021-02-06    22420\n",
      "2021-02-07    11325\n",
      "2021-02-09     9320\n",
      "2021-02-08     8920\n",
      "2021-02-10     7973\n",
      "2021-02-11     5698\n",
      "Name: id, dtype: int64\n"
     ]
    }
   ],
   "source": [
    "import json\n",
    "import pandas as pd\n",
    "from datetime import datetime\n",
    "\n",
    "data = [json.loads(line) for line in open('farmers-protest-tweets-2021-03-5.json', 'r')]\n",
    "df = pd.DataFrame(data)\n",
    "\n",
    "#main\n",
    "if __name__ == \"__main__\":\n",
    "    tweets(df)\n",
    "    days(df)"
   ]
  },
  {
   "cell_type": "code",
   "execution_count": null,
   "metadata": {},
   "outputs": [],
   "source": [
    "#from pandas.io.json import json_normalize\n",
    "df\n",
    "#users = json_normalize(df['user'])\n",
    "#users.drop(['description', 'linkTcourl'], axis=1, inplace=True)\n",
    "#users.rename(columns={'id':'userId', 'url':'profileUrl'}, inplace=True)\n",
    "#users.head(5)"
   ]
  },
  {
   "cell_type": "code",
   "execution_count": null,
   "metadata": {},
   "outputs": [],
   "source": []
  }
 ],
 "metadata": {
  "kernelspec": {
   "display_name": "Python 3",
   "language": "python",
   "name": "python3"
  },
  "language_info": {
   "codemirror_mode": {
    "name": "ipython",
    "version": 3
   },
   "file_extension": ".py",
   "mimetype": "text/x-python",
   "name": "python",
   "nbconvert_exporter": "python",
   "pygments_lexer": "ipython3",
   "version": "3.8.2"
  }
 },
 "nbformat": 4,
 "nbformat_minor": 4
}
